{
 "cells": [
  {
   "cell_type": "markdown",
   "metadata": {},
   "source": [
    "## Order of business:\n",
    "\n",
    "1. __Using yield and print in a function__\n",
    "2. __Numpy and matrices__ \n",
    "3. __Referencing Pandas DataFrames__\n",
    "4. __Scatter plots__ \n",
    "5. __An example using real data__ \n",
    "6. __Time for Datacamp__ \n"
   ]
  },
  {
   "cell_type": "markdown",
   "metadata": {},
   "source": [
    "# Using yield and print in a function \n",
    "## Yield:"
   ]
  },
  {
   "cell_type": "markdown",
   "metadata": {},
   "source": [
    "When using yield you basicly create a generator instead of a function. Generators are most comparable to lists, with the main difference that very little memory is used, so all elements of the genereator aren't stored in memory, instead each element is created when it is called upon:"
   ]
  },
  {
   "cell_type": "code",
   "execution_count": 1,
   "metadata": {},
   "outputs": [
    {
     "name": "stdout",
     "output_type": "stream",
     "text": [
      "List:\n",
      "[1, 4, 9, 16, 25]\n",
      "Generator loop:\n",
      "1\n",
      "4\n",
      "9\n",
      "16\n",
      "25\n"
     ]
    }
   ],
   "source": [
    "def squared_list(n):\n",
    "    # Function which returns a list of squared number from 1 to n\n",
    "    numbers =[]\n",
    "    for i in range(1,n+1):\n",
    "        numbers.append(i**2)        \n",
    "    return numbers\n",
    "print('List:')\n",
    "print(squared_list(5))\n",
    "\n",
    "\n",
    "def squared_generator(n):\n",
    "    # Function which returns a generator of squared number from 1 to n\n",
    "    for i in range(1,n+1):\n",
    "        yield i**2\n",
    "        \n",
    "\n",
    "print('Generator loop:')  \n",
    "for i in squared_generator(5):\n",
    "    print(i)"
   ]
  },
  {
   "cell_type": "code",
   "execution_count": 2,
   "metadata": {},
   "outputs": [
    {
     "name": "stdout",
     "output_type": "stream",
     "text": [
      "[1, 4, 9, 16, 25]\n",
      "<generator object squared_generator at 0x10d721e50>\n"
     ]
    }
   ],
   "source": [
    "# But the counter() itself does not return anything like you would expect from a return-function:\n",
    "print(squared_list(5))\n",
    "\n",
    "print(squared_generator(5))"
   ]
  },
  {
   "cell_type": "markdown",
   "metadata": {},
   "source": [
    "Since most stuf you do with generators can also be done with lists, the main motivation for using them is reducing memory use and therefore increasing speed. This probably won't be that important for you, but understanding how yield works can be helpful for understanding the code of others. <br>\n",
    "Additionally it is generally easier to create generator using comprehension, so the above example with squared numbers would be:"
   ]
  },
  {
   "cell_type": "code",
   "execution_count": 3,
   "metadata": {},
   "outputs": [
    {
     "name": "stdout",
     "output_type": "stream",
     "text": [
      "List:\n",
      "[1, 4, 9, 16, 25]\n",
      "Generator loop:\n",
      "1\n",
      "4\n",
      "9\n",
      "16\n",
      "25\n"
     ]
    }
   ],
   "source": [
    "squared_list_comp = [i**2 for i in range(1,6)] # Square brackets indicates you're comprehending a list\n",
    "print('List:')\n",
    "print(squared_list_comp)\n",
    "print('Generator loop:')\n",
    "squared_generator_comp = (i**2 for i in range(1,6)) # The round brackets indicates that it is a generator \n",
    "\n",
    "for s in squared_generator_comp:\n",
    "    print(s)"
   ]
  },
  {
   "cell_type": "code",
   "execution_count": 4,
   "metadata": {
    "jupyter": {
     "source_hidden": true
    }
   },
   "outputs": [],
   "source": [
    "# Extra: if you still want to have a function, such that you can choose the length of the generator,\n",
    "# an elegant solution, would be to use a lambda function:\n",
    "sq_gen_lambda = lambda n : (i**2 for i in range(1,n+1))"
   ]
  },
  {
   "cell_type": "code",
   "execution_count": 5,
   "metadata": {},
   "outputs": [
    {
     "name": "stdout",
     "output_type": "stream",
     "text": [
      "1\n",
      "hello\n",
      "[1, 2, 3]\n",
      "Generator is empty\n"
     ]
    }
   ],
   "source": [
    "# you can also customize the things you yield:\n",
    "def generator():\n",
    "    yield 1\n",
    "    yield 'hello'\n",
    "    yield [1,2,3]\n",
    "\n",
    "gen_object = generator()\n",
    "\n",
    "# Instead of looping you can also use the next function, once the generator object is defined\n",
    "print(next(gen_object))\n",
    "print(next(gen_object))\n",
    "print(next(gen_object))\n",
    "\n",
    "\n",
    "# but beware of errors if you call next more times than there are elements in your generator:\n",
    "try:\n",
    "    print(next(gen_object))\n",
    "except:\n",
    "    print('Generator is empty')"
   ]
  },
  {
   "cell_type": "markdown",
   "metadata": {},
   "source": [
    "## Ending a function with print:"
   ]
  },
  {
   "cell_type": "markdown",
   "metadata": {},
   "source": [
    "So basicly inside a function, python runs from the top and down, when python reaches a yield or return statement it stops, but if there are no such statement the function simply runs through all the code in the function"
   ]
  },
  {
   "cell_type": "code",
   "execution_count": 6,
   "metadata": {},
   "outputs": [
    {
     "name": "stdout",
     "output_type": "stream",
     "text": [
      "Hello\n",
      "HelloHello\n"
     ]
    }
   ],
   "source": [
    "def printer_times_two(text):\n",
    "    print(text)\n",
    "    text *= 2 #double the text\n",
    "    print(text)\n",
    "\n",
    "printer_times_two('Hello')"
   ]
  },
  {
   "cell_type": "markdown",
   "metadata": {},
   "source": [
    "So this function simply prints the text, doubles it and then prints it again. Noticably the first print doesn't end the function, it keeps going. <br> Another thing to note is that the function does not 'output' anything, only None (cause there is no output):"
   ]
  },
  {
   "cell_type": "code",
   "execution_count": 7,
   "metadata": {},
   "outputs": [
    {
     "name": "stdout",
     "output_type": "stream",
     "text": [
      "Hello\n",
      "HelloHello\n",
      "The output of the function is: None\n"
     ]
    }
   ],
   "source": [
    "output = printer_times_two('Hello')\n",
    "print('The output of the function is:',output)"
   ]
  },
  {
   "cell_type": "markdown",
   "metadata": {},
   "source": [
    "Now if a return statement is used the behavior is different, the function stops immediately and never reaches the second print() statement"
   ]
  },
  {
   "cell_type": "code",
   "execution_count": 8,
   "metadata": {},
   "outputs": [],
   "source": [
    "def return_times_two(text):\n",
    "    print(text)\n",
    "    return text\n",
    "    # all the code below is never run:\n",
    "    text *= 2 #double the text\n",
    "    print(text)"
   ]
  },
  {
   "cell_type": "code",
   "execution_count": 9,
   "metadata": {},
   "outputs": [
    {
     "name": "stdout",
     "output_type": "stream",
     "text": [
      "Hello\n",
      "The output of the function is: Hello\n"
     ]
    }
   ],
   "source": [
    "output = return_times_two('Hello')\n",
    "print('The output of the function is:',output)"
   ]
  },
  {
   "cell_type": "markdown",
   "metadata": {},
   "source": [
    "We can combine this and our newfound knowledge about yield and next() to create generator printer:"
   ]
  },
  {
   "cell_type": "code",
   "execution_count": 10,
   "metadata": {},
   "outputs": [
    {
     "name": "stdout",
     "output_type": "stream",
     "text": [
      "Hello\n"
     ]
    }
   ],
   "source": [
    "def printer_generator(text):\n",
    "    print(text)\n",
    "    yield #The yield statement don't even have to return anything\n",
    "    text *=2\n",
    "    print(text)\n",
    "    yield text\n",
    "\n",
    "generator = printer_generator('Hello')\n",
    "text1 = next(generator)"
   ]
  },
  {
   "cell_type": "code",
   "execution_count": 11,
   "metadata": {},
   "outputs": [
    {
     "name": "stdout",
     "output_type": "stream",
     "text": [
      "HelloHello\n",
      "None HelloHello\n"
     ]
    }
   ],
   "source": [
    "text2 = next(generator)\n",
    "print(text1,text2)"
   ]
  },
  {
   "cell_type": "markdown",
   "metadata": {},
   "source": [
    "# Numpy and matrices  <br>\n",
    "## Numpy"
   ]
  },
  {
   "cell_type": "code",
   "execution_count": 12,
   "metadata": {},
   "outputs": [],
   "source": [
    "import numpy as np #np is a very popular abbreviation for numpy"
   ]
  },
  {
   "cell_type": "markdown",
   "metadata": {},
   "source": [
    "Numpy arrays, which Jeppe showed you in lecture 3, is the best part of numpy, but numpy can also do a lot of other cool stuf, it contains a wide array of usefull mathematical function and constants. I'll show a glimpse of it here:"
   ]
  },
  {
   "cell_type": "code",
   "execution_count": 13,
   "metadata": {},
   "outputs": [
    {
     "name": "stdout",
     "output_type": "stream",
     "text": [
      "pi:  3.141592653589793\n",
      "The sine (sinus) of pi: 1.2246467991473532e-16 , which is approximately zero\n",
      "The cosine (cosinus) of pi: -1.0\n",
      "Eulers constants (the exponential function):  2.718281828459045\n",
      "The natural log of e: 1.0\n"
     ]
    }
   ],
   "source": [
    "print('pi: ',np.pi)\n",
    "print('The sine (sinus) of pi:',np.sin(np.pi),', which is approximately zero')\n",
    "print('The cosine (cosinus) of pi:',np.cos(np.pi))\n",
    "print('Eulers constants (the exponential function): ',np.exp(1))\n",
    "print('The natural log of e:', np.log(np.exp(1)))"
   ]
  },
  {
   "cell_type": "markdown",
   "metadata": {},
   "source": [
    "Basically anytime you need a standard mathematical tool, googling: numpy + 'what you need' will likely lead you in the right direction."
   ]
  },
  {
   "cell_type": "markdown",
   "metadata": {},
   "source": [
    "Numpy can also create a bunch of statistics from arrays:"
   ]
  },
  {
   "cell_type": "code",
   "execution_count": 14,
   "metadata": {},
   "outputs": [
    {
     "name": "stdout",
     "output_type": "stream",
     "text": [
      "The mean:  0.017284332980834295\n",
      "The variance:  1.0168743900102124\n",
      "The covariance matrix: \n",
      " [[1.01687439 0.03468944]\n",
      " [0.03468944 1.02317371]]\n"
     ]
    }
   ],
   "source": [
    "# Create two independent arrays of a standard gaussian distribution:\n",
    "np.random.seed(3)\n",
    "gauss_one = np.random.normal(loc=0.0, scale=1.0, size=1000)\n",
    "gauss_two = np.random.normal(loc=0.0, scale=1.0, size=1000)\n",
    "# Creating random numbers is another thing it can do well, but Jeppe will cover this in lecture 4.\n",
    "\n",
    "\n",
    "\n",
    "print('The mean: ',np.mean(gauss_one))\n",
    "print('The variance: ', np.var(gauss_one))\n",
    "print('The covariance matrix: \\n',np.cov(gauss_one,gauss_two,bias=True)) \n",
    "# The bias parameter is by default False it determines whether sample mean is calculated by dividing with N or N-1,\n",
    "# for some reason the default for the covariance matrix is N-1, while it is N for the variance-function"
   ]
  },
  {
   "cell_type": "code",
   "execution_count": 15,
   "metadata": {},
   "outputs": [
    {
     "data": {
      "text/plain": [
       "0.03468944027857264"
      ]
     },
     "execution_count": 15,
     "metadata": {},
     "output_type": "execute_result"
    }
   ],
   "source": [
    "np.cov(gauss_one,gauss_two,bias=True)[0,1]"
   ]
  },
  {
   "cell_type": "markdown",
   "metadata": {},
   "source": [
    "Jeppe has made an excellent list of the most important parts of numpy in lecture 3 at point 2.4, in addition to this you can check out the documentation for [Statistics](https://docs.scipy.org/doc/numpy/reference/routines.statistics.html), [Boolean operations](https://docs.scipy.org/doc/numpy/reference/routines.logic.html) and [Universial functions](https://docs.scipy.org/doc/numpy/reference/ufuncs.html#available-ufuncs). All these pages are subpages of the [numpy documentation](https://docs.scipy.org/doc/numpy/reference/index.html). <br>\n",
    "Numpy can also create random numbers which Jeppe will show you in lecture 4, a lot of the possible distriubtions can be found [here](https://docs.scipy.org/doc/numpy-1.15.0/reference/routines.random.html)."
   ]
  },
  {
   "cell_type": "markdown",
   "metadata": {},
   "source": [
    "## Matrices"
   ]
  },
  {
   "cell_type": "markdown",
   "metadata": {},
   "source": [
    "Generally, as Jeppe showed in lecture 3 you can write matrices as a multi-dimensional numpy array, for example a two by two matrix:"
   ]
  },
  {
   "cell_type": "code",
   "execution_count": 16,
   "metadata": {},
   "outputs": [
    {
     "name": "stdout",
     "output_type": "stream",
     "text": [
      "a: \n",
      " [[2 1]\n",
      " [1 2]]\n",
      "b:\n",
      " [[3 4]\n",
      " [1 2]]\n",
      "Matrix multilpicaton: \n",
      " [[ 7 10]\n",
      " [ 5  8]]\n",
      "Bitwise multiplication: \n",
      " [[6 4]\n",
      " [1 4]]\n"
     ]
    }
   ],
   "source": [
    "a=np.array([[2,1],[1,2]])\n",
    "print('a: \\n',a)\n",
    "b=np.array([[3,4],[1,2]])\n",
    "print('b:\\n',b)\n",
    "print('Matrix multilpicaton: \\n',a@b) # And you can do matrix multiplication\n",
    "print('Bitwise multiplication: \\n',a*b) # Returns bitwise multiplication of each element"
   ]
  },
  {
   "cell_type": "code",
   "execution_count": 17,
   "metadata": {},
   "outputs": [
    {
     "name": "stdout",
     "output_type": "stream",
     "text": [
      "[[1 2 3]\n",
      " [4 5 6]]\n",
      "[[1 1]\n",
      " [2 2]\n",
      " [3 3]]\n"
     ]
    }
   ],
   "source": [
    "# Here are more examples of array matrices:\n",
    "three_by_two = np.array([[1,1],[2,2],[3,3]])\n",
    "two_by_three = np.array([[1,2,3],[4,5,6]])\n",
    "# So you are inserting a list of lists, each of the lists inside the main list is a row\n",
    "print(two_by_three)\n",
    "print(three_by_two)"
   ]
  },
  {
   "cell_type": "markdown",
   "metadata": {},
   "source": [
    "__numpy.matrix__ <br>\n",
    "It also possible to specifically specify a matrix in the numpy enviornment, for example as _a = np.matrix([[1,2],[3,4]])_. This changes the methods and operators somewhat (for example the operator for matrix multiplication is * instead of @), and most matrix operations like inversing, transposing can be implemented as methods\n",
    "<br>\n",
    "However all these functionalities have been replicated in the subpackage numpy.linalg for arrays, so there is no reason to use matrix instead of two-dimensional arrays, as it only means having to learn a new methods and increases the risk of making errors (generally arrays and matrices aren't compatible). Numpy has themselves written in the documentation for numpy.matrix: \n",
    "<br>\n",
    "\"_It is no longer recommended to use this class, even for linear algebra. Instead use regular arrays. The class may be removed in the future_\"\n",
    "<br> \n",
    "<br> \n",
    "__tl;dr:__ Don't use np.matrix, its functionalities has been replaced by numpy.linalg for arrays, and could be removed in the future.\n",
    "<br>\n",
    "<br>\n",
    "__Matrix Operations__\n",
    "<br>\n",
    "[Documentation for linalg](https://docs.scipy.org/doc/numpy/reference/routines.linalg.html), contains a list of usefull linar algebra functions for arrays"
   ]
  },
  {
   "cell_type": "markdown",
   "metadata": {},
   "source": [
    "Numpy can do a lot of matrix operations, here are a few examples:"
   ]
  },
  {
   "cell_type": "markdown",
   "metadata": {},
   "source": [
    "error"
   ]
  },
  {
   "cell_type": "code",
   "execution_count": 18,
   "metadata": {},
   "outputs": [
    {
     "name": "stdout",
     "output_type": "stream",
     "text": [
      "We can transpose matrices:\n",
      "[[1 2 3]\n",
      " [1 2 3]]\n",
      "Transposed:\n",
      "[[1 1]\n",
      " [2 2]\n",
      " [3 3]]\n",
      "Alternatively, it can also be applied as a method \n",
      "[[1 1]\n",
      " [2 2]\n",
      " [3 3]]\n",
      "When using it as a method one can simply write .T for short\n",
      "[[1 1]\n",
      " [2 2]\n",
      " [3 3]]\n"
     ]
    }
   ],
   "source": [
    "print('We can transpose matrices:')\n",
    "two_by_three = np.array([[1,2,3],[1,2,3]])\n",
    "# Four different ways of tranposing a matrix:\n",
    "print(two_by_three)\n",
    "print('Transposed:')\n",
    "print(np.transpose(two_by_three))\n",
    "print('Alternatively, it can also be applied as a method ')\n",
    "print(two_by_three.transpose())\n",
    "print('When using it as a method one can simply write .T for short')\n",
    "print(two_by_three.T)"
   ]
  },
  {
   "cell_type": "code",
   "execution_count": 19,
   "metadata": {},
   "outputs": [
    {
     "name": "stdout",
     "output_type": "stream",
     "text": [
      "We can find the inverse:\n",
      "[[ 0.66666667 -0.33333333]\n",
      " [-0.33333333  0.66666667]]\n",
      "Such that a dot the inverse is the identety matrix:\n",
      "[[1. 0.]\n",
      " [0. 1.]]\n"
     ]
    }
   ],
   "source": [
    "print('We can find the inverse:')\n",
    "print(np.linalg.inv(a))\n",
    "print('Such that a dot the inverse is the identety matrix:')\n",
    "print(a@np.linalg.inv(a))"
   ]
  },
  {
   "cell_type": "code",
   "execution_count": 20,
   "metadata": {},
   "outputs": [
    {
     "name": "stdout",
     "output_type": "stream",
     "text": [
      "We can find the det determinant of a:\n",
      "3.0000\n",
      "We can also solve for eigenvalues and eigenvectors:\n",
      "The eigenvalues of a is: [3. 1.], so the product of the eigenvalues is equal to the determinant of a: 3.00\n",
      "\n",
      "The eigenvectors are the columns: \n",
      "[[ 0.70710678 -0.70710678]\n",
      " [ 0.70710678  0.70710678]]\n"
     ]
    }
   ],
   "source": [
    "print('We can find the det determinant of a:')\n",
    "print(f'{np.linalg.det(a):.4f}') # :.4f restrains the number of digits to 4 using 'formatted strings' (f'text')\n",
    "\n",
    "print('We can also solve for eigenvalues and eigenvectors:')\n",
    "eigvalues, eigvectors = np.linalg.eig(a)\n",
    "print(f'The eigenvalues of a is: {eigvalues}, so the product '\n",
    "      f'of the eigenvalues is equal to the determinant of a: {np.prod(eigvalues):.2f}') \n",
    "# Notice how a single line is divisioned into two inside the print function simply by wrapping them both with f'text', this is for more readable code.\n",
    "\n",
    "print(f'\\nThe eigenvectors are the columns: \\n{eigvectors}')"
   ]
  },
  {
   "cell_type": "markdown",
   "metadata": {},
   "source": [
    "We can also see that the formula: $\\left(a-\\lambda_{i} I\\right)v_{i}=\\mathbf{0}$ holds, where $\\lambda_{i}$ is an eigenvalue, and $v_{i}$ is an eigenvector:"
   ]
  },
  {
   "cell_type": "code",
   "execution_count": 21,
   "metadata": {},
   "outputs": [
    {
     "name": "stdout",
     "output_type": "stream",
     "text": [
      "[0. 0.]\n"
     ]
    }
   ],
   "source": [
    "print((a-eigvalues[0]*np.identity(2))@eigvectors[:,0])\n",
    "# Notice that np.linalg.eig() returns the eigen vectors in the columns of the matrix,\n",
    "# so eigvectors[:,0] is the first eigenvector, and eigvectors[:,1] is the second."
   ]
  },
  {
   "cell_type": "markdown",
   "metadata": {},
   "source": [
    "We can also solve linear matrix equations:"
   ]
  },
  {
   "cell_type": "code",
   "execution_count": 22,
   "metadata": {},
   "outputs": [
    {
     "name": "stdout",
     "output_type": "stream",
     "text": [
      "a@x:\n",
      "[[3. 4.]\n",
      " [1. 2.]] \n",
      "is equal to b:\n",
      "[[3 4]\n",
      " [1 2]] \n",
      "\n"
     ]
    }
   ],
   "source": [
    "x  = np.linalg.solve(a,b) # Returns the solution x to the equation a@x = b\n",
    "print(f'a@x:\\n{a@x} \\nis equal to b:\\n{b} \\n')"
   ]
  },
  {
   "cell_type": "code",
   "execution_count": 23,
   "metadata": {},
   "outputs": [
    {
     "name": "stdout",
     "output_type": "stream",
     "text": [
      "We can also join arrays:\n",
      "[[2 1]\n",
      " [1 2]\n",
      " [3 4]\n",
      " [1 2]]\n",
      "When they are multidimensional we have to choose on which axis we do this:\n",
      "[[2 1 3 4]\n",
      " [1 2 1 2]]\n"
     ]
    }
   ],
   "source": [
    "print('We can also join arrays:')\n",
    "print(np.concatenate([a,b]))\n",
    "print('When they are multidimensional we have to choose on which axis we do this:')\n",
    "print(np.concatenate([a,b], axis=1))"
   ]
  },
  {
   "cell_type": "markdown",
   "metadata": {},
   "source": [
    "# Referencing Pandas DataFrames"
   ]
  },
  {
   "cell_type": "markdown",
   "metadata": {},
   "source": [
    "Jeppe won't talk much about DataFrames until lecture 7 and 8 (right before you get to do the dataproject), but since you've been working a lot on it in DataCamp, I think it's fair to show you some stuff. <br>\n",
    "I think the reason why referencing DataFrames might cause some confusiion is that there are so [many different ways of doing it](https://pandas.pydata.org/pandas-docs/stable/user_guide/indexing.html). <br>\n",
    "I'll try to give some overview:\n",
    "<br> \n",
    "__First we create some data:__"
   ]
  },
  {
   "cell_type": "code",
   "execution_count": 24,
   "metadata": {},
   "outputs": [
    {
     "data": {
      "text/html": [
       "<div>\n",
       "<style scoped>\n",
       "    .dataframe tbody tr th:only-of-type {\n",
       "        vertical-align: middle;\n",
       "    }\n",
       "\n",
       "    .dataframe tbody tr th {\n",
       "        vertical-align: top;\n",
       "    }\n",
       "\n",
       "    .dataframe thead th {\n",
       "        text-align: right;\n",
       "    }\n",
       "</style>\n",
       "<table border=\"1\" class=\"dataframe\">\n",
       "  <thead>\n",
       "    <tr style=\"text-align: right;\">\n",
       "      <th></th>\n",
       "      <th>integers</th>\n",
       "      <th>floats</th>\n",
       "    </tr>\n",
       "  </thead>\n",
       "  <tbody>\n",
       "    <tr>\n",
       "      <th>0</th>\n",
       "      <td>1</td>\n",
       "      <td>0.333333</td>\n",
       "    </tr>\n",
       "    <tr>\n",
       "      <th>1</th>\n",
       "      <td>2</td>\n",
       "      <td>0.200000</td>\n",
       "    </tr>\n",
       "    <tr>\n",
       "      <th>2</th>\n",
       "      <td>3</td>\n",
       "      <td>0.100000</td>\n",
       "    </tr>\n",
       "  </tbody>\n",
       "</table>\n",
       "</div>"
      ],
      "text/plain": [
       "   integers    floats\n",
       "0         1  0.333333\n",
       "1         2  0.200000\n",
       "2         3  0.100000"
      ]
     },
     "execution_count": 24,
     "metadata": {},
     "output_type": "execute_result"
    }
   ],
   "source": [
    "import pandas as pd\n",
    "\n",
    "# Generate some data:\n",
    "df = pd.DataFrame(data = [[1, 1/3 ],[2,1/5],[3,1/10]], columns=['integers','floats'])\n",
    "df"
   ]
  },
  {
   "cell_type": "code",
   "execution_count": 25,
   "metadata": {},
   "outputs": [
    {
     "data": {
      "text/html": [
       "<div>\n",
       "<style scoped>\n",
       "    .dataframe tbody tr th:only-of-type {\n",
       "        vertical-align: middle;\n",
       "    }\n",
       "\n",
       "    .dataframe tbody tr th {\n",
       "        vertical-align: top;\n",
       "    }\n",
       "\n",
       "    .dataframe thead th {\n",
       "        text-align: right;\n",
       "    }\n",
       "</style>\n",
       "<table border=\"1\" class=\"dataframe\">\n",
       "  <thead>\n",
       "    <tr style=\"text-align: right;\">\n",
       "      <th></th>\n",
       "      <th>integers</th>\n",
       "      <th>floats</th>\n",
       "      <th>strings</th>\n",
       "    </tr>\n",
       "  </thead>\n",
       "  <tbody>\n",
       "    <tr>\n",
       "      <th>0</th>\n",
       "      <td>1</td>\n",
       "      <td>0.333333</td>\n",
       "      <td>hello</td>\n",
       "    </tr>\n",
       "    <tr>\n",
       "      <th>1</th>\n",
       "      <td>2</td>\n",
       "      <td>0.200000</td>\n",
       "      <td>hey there</td>\n",
       "    </tr>\n",
       "    <tr>\n",
       "      <th>2</th>\n",
       "      <td>3</td>\n",
       "      <td>0.100000</td>\n",
       "      <td>hello</td>\n",
       "    </tr>\n",
       "  </tbody>\n",
       "</table>\n",
       "</div>"
      ],
      "text/plain": [
       "   integers    floats    strings\n",
       "0         1  0.333333      hello\n",
       "1         2  0.200000  hey there\n",
       "2         3  0.100000      hello"
      ]
     },
     "execution_count": 25,
     "metadata": {},
     "output_type": "execute_result"
    }
   ],
   "source": [
    "# We can add a column with another atomic type:\n",
    "df['strings']= ['hello','hey there','hello']\n",
    "df"
   ]
  },
  {
   "cell_type": "markdown",
   "metadata": {},
   "source": [
    "Now I will show you 5 approaches of referecing a DataFrame, the main logic is that you remember that you are looking at a dataset: So which columns you choose is the variable you wanna see (integers, floats or strings). And which rows you wanna look at is typically not done by the index number, the fifth observation of of a dataset is rarely epsecially interesting, instead you generally use conditions, i.e. like \"all observations where the income is larger than 100.000\", stuf like that.\n",
    "Some of the different approaches offer different functionalities, but not all of them. Therefore I recomend that you use as few as possible, so you only use a new approach if it offers a new functionality."
   ]
  },
  {
   "cell_type": "code",
   "execution_count": 26,
   "metadata": {},
   "outputs": [
    {
     "name": "stdout",
     "output_type": "stream",
     "text": [
      "0     True\n",
      "1    False\n",
      "2     True\n",
      "Name: strings, dtype: bool\n",
      "<class 'pandas.core.series.Series'>\n"
     ]
    }
   ],
   "source": [
    "# First we create the condition that the string should be equal to 'hello' (so the first and the last observation)\n",
    "condition = (df['strings']=='hello')\n",
    "# Here we use the single brackets approach, the .variable-method is also feassible.\n",
    "\n",
    "# Note that the condition is a boolean pandas series:\n",
    "print(condition)\n",
    "print(type(condition))"
   ]
  },
  {
   "cell_type": "markdown",
   "metadata": {},
   "source": [
    "__Single brackets__"
   ]
  },
  {
   "cell_type": "code",
   "execution_count": 27,
   "metadata": {},
   "outputs": [
    {
     "name": "stdout",
     "output_type": "stream",
     "text": [
      "Integer column:\n",
      "0    1\n",
      "1    2\n",
      "2    3\n",
      "Name: integers, dtype: int64\n",
      "\n",
      "String column:\n",
      "0        hello\n",
      "1    hey there\n",
      "2        hello\n",
      "Name: strings, dtype: object\n"
     ]
    }
   ],
   "source": [
    "# When knowing the column names we can easily reference using single brackets:\n",
    "print('Integer column:')\n",
    "print(df['integers'])\n",
    "print('\\nString column:')\n",
    "print(df['strings'])"
   ]
  },
  {
   "cell_type": "code",
   "execution_count": 28,
   "metadata": {},
   "outputs": [
    {
     "name": "stdout",
     "output_type": "stream",
     "text": [
      "1\n"
     ]
    }
   ],
   "source": [
    "# When referencing only one column with single brackets you can reference the index:\n",
    "print(df['integers'][0])\n",
    "# However referencing using a condition is not suported"
   ]
  },
  {
   "cell_type": "markdown",
   "metadata": {},
   "source": [
    "However you should notice that you are not strictly referecing the first element of the series, \n",
    "you are instead refercing the element with index=0.\n",
    "In this case the index is numbered and nicely sorted so the two things are the same,\n",
    "but an index can be non-ordred or even come in other types (strings). <br>\n",
    "The method is easily accessible and very good for creating conditions, however you should note that you are returning a series and not a new DataFrame, further, you cannot reference multiple columns."
   ]
  },
  {
   "cell_type": "code",
   "execution_count": 29,
   "metadata": {},
   "outputs": [
    {
     "name": "stdout",
     "output_type": "stream",
     "text": [
      "<class 'pandas.core.series.Series'>\n"
     ]
    }
   ],
   "source": [
    "print(type(df['integers']))"
   ]
  },
  {
   "cell_type": "markdown",
   "metadata": {},
   "source": [
    "__The .variable - method__ <br>\n",
    "Somewhat similar to the above you can use the following method:"
   ]
  },
  {
   "cell_type": "code",
   "execution_count": 30,
   "metadata": {},
   "outputs": [
    {
     "name": "stdout",
     "output_type": "stream",
     "text": [
      "<class 'pandas.core.series.Series'>\n"
     ]
    },
    {
     "data": {
      "text/plain": [
       "0    1\n",
       "1    2\n",
       "2    3\n",
       "Name: integers, dtype: int64"
      ]
     },
     "execution_count": 30,
     "metadata": {},
     "output_type": "execute_result"
    }
   ],
   "source": [
    "print(type(df.integers))\n",
    "df.integers"
   ]
  },
  {
   "cell_type": "markdown",
   "metadata": {},
   "source": [
    "Although slightly easier to write, you cannot add a new variable to your dataset with this approach, and I thus recomend that you use the single brackets instead, so you don't mix them accidentily."
   ]
  },
  {
   "cell_type": "markdown",
   "metadata": {},
   "source": [
    "__Double brakcets__:"
   ]
  },
  {
   "cell_type": "code",
   "execution_count": 31,
   "metadata": {},
   "outputs": [
    {
     "data": {
      "text/html": [
       "<div>\n",
       "<style scoped>\n",
       "    .dataframe tbody tr th:only-of-type {\n",
       "        vertical-align: middle;\n",
       "    }\n",
       "\n",
       "    .dataframe tbody tr th {\n",
       "        vertical-align: top;\n",
       "    }\n",
       "\n",
       "    .dataframe thead th {\n",
       "        text-align: right;\n",
       "    }\n",
       "</style>\n",
       "<table border=\"1\" class=\"dataframe\">\n",
       "  <thead>\n",
       "    <tr style=\"text-align: right;\">\n",
       "      <th></th>\n",
       "      <th>integers</th>\n",
       "      <th>strings</th>\n",
       "    </tr>\n",
       "  </thead>\n",
       "  <tbody>\n",
       "    <tr>\n",
       "      <th>0</th>\n",
       "      <td>1</td>\n",
       "      <td>hello</td>\n",
       "    </tr>\n",
       "    <tr>\n",
       "      <th>1</th>\n",
       "      <td>2</td>\n",
       "      <td>hey there</td>\n",
       "    </tr>\n",
       "    <tr>\n",
       "      <th>2</th>\n",
       "      <td>3</td>\n",
       "      <td>hello</td>\n",
       "    </tr>\n",
       "  </tbody>\n",
       "</table>\n",
       "</div>"
      ],
      "text/plain": [
       "   integers    strings\n",
       "0         1      hello\n",
       "1         2  hey there\n",
       "2         3      hello"
      ]
     },
     "execution_count": 31,
     "metadata": {},
     "output_type": "execute_result"
    }
   ],
   "source": [
    "# We can use double brackets to refer to multiple columns at the same time:\n",
    "df[['integers','strings']]"
   ]
  },
  {
   "cell_type": "code",
   "execution_count": 32,
   "metadata": {},
   "outputs": [
    {
     "name": "stdout",
     "output_type": "stream",
     "text": [
      "<class 'pandas.core.frame.DataFrame'>\n"
     ]
    },
    {
     "data": {
      "text/html": [
       "<div>\n",
       "<style scoped>\n",
       "    .dataframe tbody tr th:only-of-type {\n",
       "        vertical-align: middle;\n",
       "    }\n",
       "\n",
       "    .dataframe tbody tr th {\n",
       "        vertical-align: top;\n",
       "    }\n",
       "\n",
       "    .dataframe thead th {\n",
       "        text-align: right;\n",
       "    }\n",
       "</style>\n",
       "<table border=\"1\" class=\"dataframe\">\n",
       "  <thead>\n",
       "    <tr style=\"text-align: right;\">\n",
       "      <th></th>\n",
       "      <th>integers</th>\n",
       "    </tr>\n",
       "  </thead>\n",
       "  <tbody>\n",
       "    <tr>\n",
       "      <th>0</th>\n",
       "      <td>1</td>\n",
       "    </tr>\n",
       "    <tr>\n",
       "      <th>1</th>\n",
       "      <td>2</td>\n",
       "    </tr>\n",
       "    <tr>\n",
       "      <th>2</th>\n",
       "      <td>3</td>\n",
       "    </tr>\n",
       "  </tbody>\n",
       "</table>\n",
       "</div>"
      ],
      "text/plain": [
       "   integers\n",
       "0         1\n",
       "1         2\n",
       "2         3"
      ]
     },
     "execution_count": 32,
     "metadata": {},
     "output_type": "execute_result"
    }
   ],
   "source": [
    "# Double brackets can also be used on a single column to keep the prety Panda look, \n",
    "# because you are still returning a dataframe:\n",
    "print(type(df[['integers']]))\n",
    "df[['integers']]"
   ]
  },
  {
   "cell_type": "code",
   "execution_count": 33,
   "metadata": {},
   "outputs": [
    {
     "name": "stdout",
     "output_type": "stream",
     "text": [
      "It cannot be done\n"
     ]
    }
   ],
   "source": [
    "# However you cannot reference the index when using double brackets columns nor can you reference using conditions:\n",
    "try:\n",
    "    print(df[['integers']][0])\n",
    "except:\n",
    "    print('It cannot be done')\n"
   ]
  },
  {
   "cell_type": "markdown",
   "metadata": {},
   "source": [
    "A more general approach would be the .loc-method:"
   ]
  },
  {
   "cell_type": "markdown",
   "metadata": {},
   "source": [
    "__.loc-method__ <br>\n",
    "Generally you will use the _.loc[CONDITION, [VARLIST]]_ method to show or extract parts of you data, as it is the most versatile, so this is probably the most important to understand. <br> \n",
    "The CONDITION is a series of True/False values indicating which rows to pick and the VARLIST is simply the list of columns to include."
   ]
  },
  {
   "cell_type": "code",
   "execution_count": 34,
   "metadata": {},
   "outputs": [
    {
     "data": {
      "text/html": [
       "<div>\n",
       "<style scoped>\n",
       "    .dataframe tbody tr th:only-of-type {\n",
       "        vertical-align: middle;\n",
       "    }\n",
       "\n",
       "    .dataframe tbody tr th {\n",
       "        vertical-align: top;\n",
       "    }\n",
       "\n",
       "    .dataframe thead th {\n",
       "        text-align: right;\n",
       "    }\n",
       "</style>\n",
       "<table border=\"1\" class=\"dataframe\">\n",
       "  <thead>\n",
       "    <tr style=\"text-align: right;\">\n",
       "      <th></th>\n",
       "      <th>integers</th>\n",
       "      <th>floats</th>\n",
       "      <th>strings</th>\n",
       "    </tr>\n",
       "  </thead>\n",
       "  <tbody>\n",
       "    <tr>\n",
       "      <th>0</th>\n",
       "      <td>1</td>\n",
       "      <td>0.333333</td>\n",
       "      <td>hello</td>\n",
       "    </tr>\n",
       "    <tr>\n",
       "      <th>2</th>\n",
       "      <td>3</td>\n",
       "      <td>0.100000</td>\n",
       "      <td>hello</td>\n",
       "    </tr>\n",
       "  </tbody>\n",
       "</table>\n",
       "</div>"
      ],
      "text/plain": [
       "   integers    floats strings\n",
       "0         1  0.333333   hello\n",
       "2         3  0.100000   hello"
      ]
     },
     "execution_count": 34,
     "metadata": {},
     "output_type": "execute_result"
    }
   ],
   "source": [
    "df.loc[condition,:] # the ':' signals all columns"
   ]
  },
  {
   "cell_type": "code",
   "execution_count": 35,
   "metadata": {},
   "outputs": [
    {
     "data": {
      "text/html": [
       "<div>\n",
       "<style scoped>\n",
       "    .dataframe tbody tr th:only-of-type {\n",
       "        vertical-align: middle;\n",
       "    }\n",
       "\n",
       "    .dataframe tbody tr th {\n",
       "        vertical-align: top;\n",
       "    }\n",
       "\n",
       "    .dataframe thead th {\n",
       "        text-align: right;\n",
       "    }\n",
       "</style>\n",
       "<table border=\"1\" class=\"dataframe\">\n",
       "  <thead>\n",
       "    <tr style=\"text-align: right;\">\n",
       "      <th></th>\n",
       "      <th>integers</th>\n",
       "      <th>strings</th>\n",
       "    </tr>\n",
       "  </thead>\n",
       "  <tbody>\n",
       "    <tr>\n",
       "      <th>0</th>\n",
       "      <td>1</td>\n",
       "      <td>hello</td>\n",
       "    </tr>\n",
       "    <tr>\n",
       "      <th>1</th>\n",
       "      <td>2</td>\n",
       "      <td>hey there</td>\n",
       "    </tr>\n",
       "    <tr>\n",
       "      <th>2</th>\n",
       "      <td>3</td>\n",
       "      <td>hello</td>\n",
       "    </tr>\n",
       "  </tbody>\n",
       "</table>\n",
       "</div>"
      ],
      "text/plain": [
       "   integers    strings\n",
       "0         1      hello\n",
       "1         2  hey there\n",
       "2         3      hello"
      ]
     },
     "execution_count": 35,
     "metadata": {},
     "output_type": "execute_result"
    }
   ],
   "source": [
    "# You can also choose a single or multiple columns:\n",
    "df.loc[:,['integers','strings']]"
   ]
  },
  {
   "cell_type": "code",
   "execution_count": 36,
   "metadata": {},
   "outputs": [
    {
     "data": {
      "text/html": [
       "<div>\n",
       "<style scoped>\n",
       "    .dataframe tbody tr th:only-of-type {\n",
       "        vertical-align: middle;\n",
       "    }\n",
       "\n",
       "    .dataframe tbody tr th {\n",
       "        vertical-align: top;\n",
       "    }\n",
       "\n",
       "    .dataframe thead th {\n",
       "        text-align: right;\n",
       "    }\n",
       "</style>\n",
       "<table border=\"1\" class=\"dataframe\">\n",
       "  <thead>\n",
       "    <tr style=\"text-align: right;\">\n",
       "      <th></th>\n",
       "      <th>strings</th>\n",
       "    </tr>\n",
       "  </thead>\n",
       "  <tbody>\n",
       "    <tr>\n",
       "      <th>0</th>\n",
       "      <td>hello</td>\n",
       "    </tr>\n",
       "    <tr>\n",
       "      <th>1</th>\n",
       "      <td>hey there</td>\n",
       "    </tr>\n",
       "    <tr>\n",
       "      <th>2</th>\n",
       "      <td>hello</td>\n",
       "    </tr>\n",
       "  </tbody>\n",
       "</table>\n",
       "</div>"
      ],
      "text/plain": [
       "     strings\n",
       "0      hello\n",
       "1  hey there\n",
       "2      hello"
      ]
     },
     "execution_count": 36,
     "metadata": {},
     "output_type": "execute_result"
    }
   ],
   "source": [
    "df.loc[:,['strings']]"
   ]
  },
  {
   "cell_type": "code",
   "execution_count": 37,
   "metadata": {},
   "outputs": [
    {
     "name": "stdout",
     "output_type": "stream",
     "text": [
      "<class 'pandas.core.series.Series'>\n"
     ]
    },
    {
     "data": {
      "text/plain": [
       "0        hello\n",
       "1    hey there\n",
       "2        hello\n",
       "Name: strings, dtype: object"
      ]
     },
     "execution_count": 37,
     "metadata": {},
     "output_type": "execute_result"
    }
   ],
   "source": [
    "# If you only want one approach I would recomend this at it also possible to output a pandas series:\n",
    "print(type(df.loc[:,'strings']))\n",
    "df.loc[:,'strings']"
   ]
  },
  {
   "cell_type": "code",
   "execution_count": 38,
   "metadata": {},
   "outputs": [
    {
     "data": {
      "text/html": [
       "<div>\n",
       "<style scoped>\n",
       "    .dataframe tbody tr th:only-of-type {\n",
       "        vertical-align: middle;\n",
       "    }\n",
       "\n",
       "    .dataframe tbody tr th {\n",
       "        vertical-align: top;\n",
       "    }\n",
       "\n",
       "    .dataframe thead th {\n",
       "        text-align: right;\n",
       "    }\n",
       "</style>\n",
       "<table border=\"1\" class=\"dataframe\">\n",
       "  <thead>\n",
       "    <tr style=\"text-align: right;\">\n",
       "      <th></th>\n",
       "      <th>integers</th>\n",
       "      <th>floats</th>\n",
       "    </tr>\n",
       "  </thead>\n",
       "  <tbody>\n",
       "    <tr>\n",
       "      <th>1</th>\n",
       "      <td>2</td>\n",
       "      <td>0.2</td>\n",
       "    </tr>\n",
       "    <tr>\n",
       "      <th>2</th>\n",
       "      <td>3</td>\n",
       "      <td>0.1</td>\n",
       "    </tr>\n",
       "  </tbody>\n",
       "</table>\n",
       "</div>"
      ],
      "text/plain": [
       "   integers  floats\n",
       "1         2     0.2\n",
       "2         3     0.1"
      ]
     },
     "execution_count": 38,
     "metadata": {},
     "output_type": "execute_result"
    }
   ],
   "source": [
    "# nomally the condtion is written directly into the .loc method:\n",
    "df.loc[df.loc[:,'integers']>1,['integers','floats']]"
   ]
  },
  {
   "cell_type": "markdown",
   "metadata": {},
   "source": [
    "__.iloc-method__"
   ]
  },
  {
   "cell_type": "markdown",
   "metadata": {},
   "source": [
    "If you do wanna select rows by choosing index, one approach would be the iloc method, which is basicly .loc but with index instead of conditions, you can read more about that [here](https://www.shanelynn.ie/select-pandas-dataframe-rows-and-columns-using-iloc-loc-and-ix/). <br>\n",
    "There is also something called the .ix-method but as noted in the above link, this is deprecated."
   ]
  },
  {
   "cell_type": "code",
   "execution_count": 39,
   "metadata": {},
   "outputs": [
    {
     "data": {
      "text/html": [
       "<div>\n",
       "<style scoped>\n",
       "    .dataframe tbody tr th:only-of-type {\n",
       "        vertical-align: middle;\n",
       "    }\n",
       "\n",
       "    .dataframe tbody tr th {\n",
       "        vertical-align: top;\n",
       "    }\n",
       "\n",
       "    .dataframe thead th {\n",
       "        text-align: right;\n",
       "    }\n",
       "</style>\n",
       "<table border=\"1\" class=\"dataframe\">\n",
       "  <thead>\n",
       "    <tr style=\"text-align: right;\">\n",
       "      <th></th>\n",
       "      <th>integers</th>\n",
       "      <th>floats</th>\n",
       "      <th>strings</th>\n",
       "    </tr>\n",
       "  </thead>\n",
       "  <tbody>\n",
       "    <tr>\n",
       "      <th>0</th>\n",
       "      <td>1</td>\n",
       "      <td>0.333333</td>\n",
       "      <td>hello</td>\n",
       "    </tr>\n",
       "    <tr>\n",
       "      <th>1</th>\n",
       "      <td>2</td>\n",
       "      <td>0.200000</td>\n",
       "      <td>hey there</td>\n",
       "    </tr>\n",
       "  </tbody>\n",
       "</table>\n",
       "</div>"
      ],
      "text/plain": [
       "   integers    floats    strings\n",
       "0         1  0.333333      hello\n",
       "1         2  0.200000  hey there"
      ]
     },
     "execution_count": 39,
     "metadata": {},
     "output_type": "execute_result"
    }
   ],
   "source": [
    "df.iloc[[0,1],:]"
   ]
  },
  {
   "cell_type": "markdown",
   "metadata": {},
   "source": [
    "# Scatter plots"
   ]
  },
  {
   "cell_type": "markdown",
   "metadata": {},
   "source": [
    "There was a question about a specific 'intermediate python' DataCamp exercise, where a scatterplot is made and the size of each dot represents the population size of the country. In this exercise the array which contains the population is doubled and the question was why, the simple reason for this is that the size of each element of the array decideds the size of each dot, thus doubling it makes the dot larger (although not twice as large, the reason for which can found [here](https://stackoverflow.com/questions/14827650/pyplot-scatter-plot-marker-size))."
   ]
  },
  {
   "cell_type": "code",
   "execution_count": 40,
   "metadata": {},
   "outputs": [
    {
     "data": {
      "text/plain": [
       "<Figure size 640x480 with 1 Axes>"
      ]
     },
     "metadata": {},
     "output_type": "display_data"
    }
   ],
   "source": [
    "import matplotlib.pyplot as plt\n",
    "\n",
    "# Create some simple data:\n",
    "x_axis = [1,2,3,4]\n",
    "y_axis = [1,2,3,4]\n",
    "sizes = [100,500,1000,1500] # These numbers determine the size of each dot\n",
    "\n",
    "# plot data:\n",
    "plt.scatter(x_axis, y_axis, s=sizes)\n",
    "\n",
    "plt.show()"
   ]
  },
  {
   "cell_type": "code",
   "execution_count": 41,
   "metadata": {},
   "outputs": [
    {
     "data": {
      "image/png": "[encoded data removed]",
      "text/plain": [
       "<Figure size 432x288 with 1 Axes>"
      ]
     },
     "metadata": {
      "needs_background": "light"
     },
     "output_type": "display_data"
    },
    {
     "data": {
      "image/png": "[encoded data removed]",
      "text/plain": [
       "<Figure size 432x288 with 1 Axes>"
      ]
     },
     "metadata": {
      "needs_background": "light"
     },
     "output_type": "display_data"
    }
   ],
   "source": [
    "# Double each element of the list:\n",
    "sizes2 = [size*2 for size in sizes]\n",
    "\n",
    "\n",
    "plt.scatter(x_axis, y_axis, s=sizes2, c='red')\n",
    "\n",
    "plt.show()\n",
    "\n",
    "plt.scatter(x_axis, y_axis, s=sizes2, c='red')\n",
    "\n",
    "plt.scatter(x_axis, y_axis, s=sizes)\n",
    "\n",
    "plt.show()"
   ]
  },
  {
   "cell_type": "code",
   "execution_count": 42,
   "metadata": {},
   "outputs": [
    {
     "name": "stdout",
     "output_type": "stream",
     "text": [
      "[200, 1000, 2000, 3000]\n",
      "[100, 500, 1000, 1500, 100, 500, 1000, 1500]\n",
      "[ 200 1000 2000 3000]\n"
     ]
    }
   ],
   "source": [
    "# doubling a list:\n",
    "sizes2 = [size*2 for size in sizes]\n",
    "print(sizes2)\n",
    "# list *2:\n",
    "sizes_times_2 = sizes*2\n",
    "print(sizes_times_2)\n",
    "# Not what we want, but if we do it on a array we get the wanted result:\n",
    "\n",
    "sizes_np = np.array(sizes)\n",
    "sizes2_np = sizes_np*2 #numpy arrays suports bitwise operations\n",
    "print(sizes2_np)"
   ]
  },
  {
   "cell_type": "markdown",
   "metadata": {},
   "source": [
    "# An example using real data"
   ]
  },
  {
   "cell_type": "markdown",
   "metadata": {},
   "source": [
    "I wrote this to give you an real example of where it might be useful, but after writing it I realized that it might be a bit to complex for the level that you're expected to be at right now. I still provide it so you can look at if you have time, and I have done quite a bit of commenting to make it more readable, but we will glans over the complex stuff in class. <br>\n",
    "Maybe it will be benificial to revisit this after lecture 8 and before your dataproject."
   ]
  },
  {
   "cell_type": "code",
   "execution_count": 43,
   "metadata": {},
   "outputs": [
    {
     "name": "stdout",
     "output_type": "stream",
     "text": [
      "The data is loaded as dataframes: <class 'pandas.core.frame.DataFrame'>\n"
     ]
    }
   ],
   "source": [
    "'''\n",
    "Importing data directly from Statistics Denmark requires the pydst package, \n",
    "which Jeppe will introduce in lecture 8, so don't worry about this yet, \n",
    "but after the lecture and before you come back and get some inspiration for your Data project\n",
    "Because there is a lot of data this block can take a little time\n",
    "You need to run pip install git+https://github.com/elben10/pydst in your anaconda prompt (terminal) the first time \n",
    "as you need to download the pydst package\n",
    "'''\n",
    "\n",
    "import pydst\n",
    "Dst = pydst.Dst(lang='en')\n",
    "\n",
    "\n",
    "##  Preliminary stuf\n",
    "# We want a list of all muncipalities in Denmark so we can tell Denmarks statistics (DST) what we want\n",
    "# Each muncipality has an 'text' which is the name of the muncipality like 'Copenhagen' and an id which is simply an identification number\n",
    "muncipalities_dicts = Dst.get_variables(table_id = 'BY2')['values'][0] #This comand extrats the list of muncipalities we want\n",
    "muncipalities_dicts.remove({'id': '411', 'text': 'Christiansø'})  # remove chistiansø as it is not included in the dataset for income\n",
    "munci_dict = {m['id'] : m['text'] for m in muncipalities_dicts} # This comand reformats the list into one dictionary (DST spits out a list of dictionaries))\n",
    "\n",
    "# These comands have to be either printed or run as the last step in the block to actually be shown:\n",
    "Dst.get_variables(table_id='BY2') # This command shows possible variables to load from the 'BY2' (population data) table, all tables can found at: https://www.statistikbanken.dk\n",
    "Dst.get_variables(table_id='BY2')['values'][0] # Here I am looking at the possible values the first variable KOMK can take, this is the muncipalities\n",
    "Dst.get_variables(table_id='INDKP101') # Now looking at variables in the INDKP101 table, which shows income data\n",
    "Dst.get_variables(table_id='INDKP101')['values'][3]\n",
    "\n",
    "\n",
    "##  Now its time to actually load the data for population:\n",
    "pop_data = Dst.get_data(table_id = 'BY2', variables={'KOMK': munci_dict.keys(), 'Tid':['2018'], 'ALDER': [str(i) for i in range(18,66)], 'KØN': ['*'] , 'BYST':['*']}) # Load data of total population\n",
    "pop_sum = pop_data.groupby('KOMK').sum()\n",
    "# The data is loaded with a datapoint of number of people for each unique combination of muncipality-age-gender so the above line simple sums this for each muncipality\n",
    "#pop_sum.index.rename('OMRÅDE', inplace=True) # Then we rename the index (which is the muncipalities) so it fits with the income data\n",
    "pop_sum.drop('TID', axis=1, inplace=True) # Drop the variable indicating year, as all observations are from 2018.\n",
    "pop_sum.rename(columns={'INDHOLD':'population'},inplace=True) # Rename for clarity which variable indicates population size\n",
    "\n",
    "# And some income data\n",
    "inc_data_long = Dst.get_data(table_id = 'INDKP101', variables={'OMRÅDE': munci_dict.keys(), 'ENHED':['121'],'KOEN':['mok'], 'Tid':['2018'],'INDKOMSTTYPE':['115','120']})\n",
    "\n",
    "print(f'The data is loaded as dataframes: {type(inc_data_long)}')"
   ]
  },
  {
   "cell_type": "code",
   "execution_count": 44,
   "metadata": {},
   "outputs": [],
   "source": [
    "# The income data is loaded in long-format so we reshape it to wide format:\n",
    "inc_data = inc_data_long.pivot(index='OMRÅDE', columns='INDKOMSTTYPE', values='INDHOLD')"
   ]
  },
  {
   "cell_type": "code",
   "execution_count": 45,
   "metadata": {},
   "outputs": [
    {
     "data": {
      "text/html": [
       "<div>\n",
       "<style scoped>\n",
       "    .dataframe tbody tr th:only-of-type {\n",
       "        vertical-align: middle;\n",
       "    }\n",
       "\n",
       "    .dataframe tbody tr th {\n",
       "        vertical-align: top;\n",
       "    }\n",
       "\n",
       "    .dataframe thead th {\n",
       "        text-align: right;\n",
       "    }\n",
       "</style>\n",
       "<table border=\"1\" class=\"dataframe\">\n",
       "  <thead>\n",
       "    <tr style=\"text-align: right;\">\n",
       "      <th>INDKOMSTTYPE</th>\n",
       "      <th>4 Wages and salaries etc., total</th>\n",
       "      <th>5 Entrepreneurial income, total</th>\n",
       "    </tr>\n",
       "    <tr>\n",
       "      <th>OMRÅDE</th>\n",
       "      <th></th>\n",
       "      <th></th>\n",
       "    </tr>\n",
       "  </thead>\n",
       "  <tbody>\n",
       "    <tr>\n",
       "      <th>Aabenraa</th>\n",
       "      <td>299302</td>\n",
       "      <td>149201</td>\n",
       "    </tr>\n",
       "    <tr>\n",
       "      <th>Aalborg</th>\n",
       "      <td>300905</td>\n",
       "      <td>162712</td>\n",
       "    </tr>\n",
       "    <tr>\n",
       "      <th>Aarhus</th>\n",
       "      <td>301001</td>\n",
       "      <td>259992</td>\n",
       "    </tr>\n",
       "    <tr>\n",
       "      <th>Albertslund</th>\n",
       "      <td>300101</td>\n",
       "      <td>167649</td>\n",
       "    </tr>\n",
       "    <tr>\n",
       "      <th>Allerød</th>\n",
       "      <td>438230</td>\n",
       "      <td>188987</td>\n",
       "    </tr>\n",
       "  </tbody>\n",
       "</table>\n",
       "</div>"
      ],
      "text/plain": [
       "INDKOMSTTYPE  4 Wages and salaries etc., total  \\\n",
       "OMRÅDE                                           \n",
       "Aabenraa                                299302   \n",
       "Aalborg                                 300905   \n",
       "Aarhus                                  301001   \n",
       "Albertslund                             300101   \n",
       "Allerød                                 438230   \n",
       "\n",
       "INDKOMSTTYPE  5 Entrepreneurial income, total  \n",
       "OMRÅDE                                         \n",
       "Aabenraa                               149201  \n",
       "Aalborg                                162712  \n",
       "Aarhus                                 259992  \n",
       "Albertslund                            167649  \n",
       "Allerød                                188987  "
      ]
     },
     "execution_count": 45,
     "metadata": {},
     "output_type": "execute_result"
    }
   ],
   "source": [
    "# use .head() -method on dataframe to look quickly at data:\n",
    "inc_data.head()"
   ]
  },
  {
   "cell_type": "code",
   "execution_count": 46,
   "metadata": {},
   "outputs": [
    {
     "data": {
      "text/html": [
       "<div>\n",
       "<style scoped>\n",
       "    .dataframe tbody tr th:only-of-type {\n",
       "        vertical-align: middle;\n",
       "    }\n",
       "\n",
       "    .dataframe tbody tr th {\n",
       "        vertical-align: top;\n",
       "    }\n",
       "\n",
       "    .dataframe thead th {\n",
       "        text-align: right;\n",
       "    }\n",
       "</style>\n",
       "<table border=\"1\" class=\"dataframe\">\n",
       "  <thead>\n",
       "    <tr style=\"text-align: right;\">\n",
       "      <th></th>\n",
       "      <th>population</th>\n",
       "    </tr>\n",
       "    <tr>\n",
       "      <th>KOMK</th>\n",
       "      <th></th>\n",
       "    </tr>\n",
       "  </thead>\n",
       "  <tbody>\n",
       "    <tr>\n",
       "      <th>Aabenraa</th>\n",
       "      <td>34545</td>\n",
       "    </tr>\n",
       "    <tr>\n",
       "      <th>Aalborg</th>\n",
       "      <td>138900</td>\n",
       "    </tr>\n",
       "    <tr>\n",
       "      <th>Aarhus</th>\n",
       "      <td>231291</td>\n",
       "    </tr>\n",
       "    <tr>\n",
       "      <th>Albertslund</th>\n",
       "      <td>16916</td>\n",
       "    </tr>\n",
       "    <tr>\n",
       "      <th>Allerød</th>\n",
       "      <td>14218</td>\n",
       "    </tr>\n",
       "  </tbody>\n",
       "</table>\n",
       "</div>"
      ],
      "text/plain": [
       "             population\n",
       "KOMK                   \n",
       "Aabenraa          34545\n",
       "Aalborg          138900\n",
       "Aarhus           231291\n",
       "Albertslund       16916\n",
       "Allerød           14218"
      ]
     },
     "execution_count": 46,
     "metadata": {},
     "output_type": "execute_result"
    }
   ],
   "source": [
    "pop_sum.head()"
   ]
  },
  {
   "cell_type": "code",
   "execution_count": 47,
   "metadata": {},
   "outputs": [
    {
     "data": {
      "text/html": [
       "<div>\n",
       "<style scoped>\n",
       "    .dataframe tbody tr th:only-of-type {\n",
       "        vertical-align: middle;\n",
       "    }\n",
       "\n",
       "    .dataframe tbody tr th {\n",
       "        vertical-align: top;\n",
       "    }\n",
       "\n",
       "    .dataframe thead th {\n",
       "        text-align: right;\n",
       "    }\n",
       "</style>\n",
       "<table border=\"1\" class=\"dataframe\">\n",
       "  <thead>\n",
       "    <tr style=\"text-align: right;\">\n",
       "      <th></th>\n",
       "      <th>wage_inc</th>\n",
       "      <th>ent_inc</th>\n",
       "      <th>population</th>\n",
       "    </tr>\n",
       "    <tr>\n",
       "      <th>OMRÅDE</th>\n",
       "      <th></th>\n",
       "      <th></th>\n",
       "      <th></th>\n",
       "    </tr>\n",
       "  </thead>\n",
       "  <tbody>\n",
       "    <tr>\n",
       "      <th>Aabenraa</th>\n",
       "      <td>299302</td>\n",
       "      <td>149201</td>\n",
       "      <td>34545</td>\n",
       "    </tr>\n",
       "    <tr>\n",
       "      <th>Aalborg</th>\n",
       "      <td>300905</td>\n",
       "      <td>162712</td>\n",
       "      <td>138900</td>\n",
       "    </tr>\n",
       "    <tr>\n",
       "      <th>Aarhus</th>\n",
       "      <td>301001</td>\n",
       "      <td>259992</td>\n",
       "      <td>231291</td>\n",
       "    </tr>\n",
       "    <tr>\n",
       "      <th>Albertslund</th>\n",
       "      <td>300101</td>\n",
       "      <td>167649</td>\n",
       "      <td>16916</td>\n",
       "    </tr>\n",
       "    <tr>\n",
       "      <th>Allerød</th>\n",
       "      <td>438230</td>\n",
       "      <td>188987</td>\n",
       "      <td>14218</td>\n",
       "    </tr>\n",
       "  </tbody>\n",
       "</table>\n",
       "</div>"
      ],
      "text/plain": [
       "             wage_inc  ent_inc  population\n",
       "OMRÅDE                                    \n",
       "Aabenraa       299302   149201       34545\n",
       "Aalborg        300905   162712      138900\n",
       "Aarhus         301001   259992      231291\n",
       "Albertslund    300101   167649       16916\n",
       "Allerød        438230   188987       14218"
      ]
     },
     "execution_count": 47,
     "metadata": {},
     "output_type": "execute_result"
    }
   ],
   "source": [
    "#Rename the variable names:\n",
    "inc_data.rename(columns={'4 Wages and salaries etc., total':'wage_inc', '5 Entrepreneurial income, total':'ent_inc'},inplace=True) \n",
    "\n",
    "# Now we merge on the index (which in this case is the muncipality)\n",
    "data = pd.merge(inc_data, pop_sum,left_index=True, right_index=True)\n",
    "data.head()"
   ]
  },
  {
   "cell_type": "markdown",
   "metadata": {},
   "source": [
    "Now we have the wanted data, in order to distinguish each observation we create some random color codes, so each muncipality has a different color."
   ]
  },
  {
   "cell_type": "code",
   "execution_count": 48,
   "metadata": {},
   "outputs": [
    {
     "data": {
      "text/plain": [
       "[(0.5520684117244246, 0.928290392994412, 0.9008996036016469, 0.5),\n",
       " (0.6640805665497589, 0.6740669917722055, 0.7087869331432487, 0.5),\n",
       " (0.01404727205909595, 0.04797447741564553, 0.6775945516730147, 0.5),\n",
       " (0.5345352450593157, 0.8319051481600264, 0.27622205000271804, 0.5),\n",
       " (0.5781958810985663, 0.4617029476559089, 0.7247924077407706, 0.5)]"
      ]
     },
     "execution_count": 48,
     "metadata": {},
     "output_type": "execute_result"
    }
   ],
   "source": [
    "nobs = len(data.index) # number of observations\n",
    "\n",
    "random = np.random.rand(nobs,3) # nobs lists with three random numbers between zero and one\n",
    "\n",
    "colormap = [(i,j,k,0.5) for i,j,k in random] \n",
    "#Among other things matplotlib understands hex color codes which are the first three entries i,j,k (our random numbers),\n",
    "# The last intry 0.5 is tranparency of the colors\n",
    "\n",
    "# This is the first five entries:\n",
    "colormap[:5]"
   ]
  },
  {
   "cell_type": "code",
   "execution_count": 49,
   "metadata": {},
   "outputs": [
    {
     "data": {
      "image/png": "[encoded data removed]",
      "text/plain": [
       "<Figure size 1080x432 with 1 Axes>"
      ]
     },
     "metadata": {
      "needs_background": "light"
     },
     "output_type": "display_data"
    }
   ],
   "source": [
    "# Now we plot:\n",
    "fig = plt.figure(figsize=(15,6))\n",
    "ax = fig.add_subplot(1,2,1)\n",
    "\n",
    "ax.scatter(data['wage_inc'],data['ent_inc'], s=data['population'], c=colormap)\n",
    "\n",
    "# formating:\n",
    "ax.set_title('Average wage and entrepreneurial income in danish muncipalities in 2018',fontdict={'fontsize':13,'fontweight':\"bold\"})\n",
    "ax.set_xlabel('Average wage income')\n",
    "ax.set_ylabel('Average entrepreneurial income')\n",
    "plt.figtext(0.15, 0.01, \"Note: Population size are shown by the size of the dots\", wrap=True, fontsize=12)\n",
    "\n",
    "# Show plot\n",
    "plt.show()"
   ]
  },
  {
   "cell_type": "markdown",
   "metadata": {},
   "source": [
    "Looks a bit more like abstract expressionism than what we were looking for. <br>\n",
    "This is because the population size makes the dots way to big, therefore we need to rescale them:"
   ]
  },
  {
   "cell_type": "code",
   "execution_count": 50,
   "metadata": {},
   "outputs": [],
   "source": [
    "data['populations_rescaled']=data['population']/20 #Pandas also surports bit-wise operations"
   ]
  },
  {
   "cell_type": "code",
   "execution_count": 51,
   "metadata": {},
   "outputs": [
    {
     "data": {
      "image/png": "[encoded data removed]",
      "text/plain": [
       "<Figure size 1080x432 with 1 Axes>"
      ]
     },
     "metadata": {
      "needs_background": "light"
     },
     "output_type": "display_data"
    }
   ],
   "source": [
    "fig = plt.figure(figsize=(15,6))\n",
    "ax = fig.add_subplot(1,2,1)\n",
    "ax.scatter(data['wage_inc'],data['ent_inc'], s=data['populations_rescaled'], c=colormap)\n",
    "\n",
    "ax.set_title('Average wage and entrepreneurial income in danish muncipalities in 2018',fontdict={'fontsize':13,'fontweight':\"bold\"})\n",
    "ax.set_xlabel('Average wage income')\n",
    "ax.set_ylabel('Average entrepreneurial income')\n",
    "\n",
    "plt.figtext(0.15, 0.01, \"Note: Population size are shown by the size of the dots\", wrap=True, fontsize=12)\n",
    "plt.show()"
   ]
  },
  {
   "cell_type": "markdown",
   "metadata": {},
   "source": [
    "# Time for Datacamp"
   ]
  },
  {
   "cell_type": "markdown",
   "metadata": {},
   "source": [
    "Remember the deadline is this sunday, the 23rd\n",
    "If you have already finished them, I suggest the following:\n",
    "1. Look through Jeppes lecture notes, especially lecture note 3, as that is the main focus of the problem set\n",
    "2. Read through problemset 1 and think about possible approaches to the problems and where in the lecture notes you have seen something similar. The problemset also includes a short introduction one how to approach the problemset in terms of balancing how much you look at the answers (which are included in the probem set)\n",
    "3. If you're eager to start doing some problems and already feel comfortable in python, you could visit [project_euler](https://projecteuler.net/), which is a website filled with mathematical orriented programming problems. They have varying degrees of difficulty (some of them are really hard) but help can be found online for the first couple of problems or you can ask me."
   ]
  }
 ],
 "metadata": {
  "kernelspec": {
   "display_name": "Python 3",
   "language": "python",
   "name": "python3"
  },
  "language_info": {
   "codemirror_mode": {
    "name": "ipython",
    "version": 3
   },
   "file_extension": ".py",
   "mimetype": "text/x-python",
   "name": "python",
   "nbconvert_exporter": "python",
   "pygments_lexer": "ipython3",
   "version": "3.7.4"
  }
 },
 "nbformat": 4,
 "nbformat_minor": 4
}
