{
 "cells": [
  {
   "cell_type": "markdown",
   "metadata": {},
   "source": [
    "# Some notes on the inaugural project"
   ]
  },
  {
   "cell_type": "markdown",
   "metadata": {},
   "source": [
    "### Global variables"
   ]
  },
  {
   "cell_type": "markdown",
   "metadata": {},
   "source": [
    "Some of you got into trouble because of your use of global variables in functions, instead of passing them as arguments. <br>\n",
    "I would recomend when making larger projects that the variables you use in each function is an argument to the function, as this can be a gut-wrenching source of errors."
   ]
  },
  {
   "cell_type": "code",
   "execution_count": 1,
   "metadata": {},
   "outputs": [],
   "source": [
    "# A simple example\n",
    "I = 10 \n",
    "C = 100\n",
    "parameters = {'r':0.05} # parameters, rate of return on invested capital\n",
    "\n",
    "def income(I,par=parameters):\n",
    "    '''\n",
    "    Returns total income for a given year, based on labour income, \n",
    "        invested capital and the rate of return\n",
    "    Args:\n",
    "        I (float)  : Labour inocme\n",
    "        C (float)  : Invested capital ##Notice that this is not a argument to the function, but should be##\n",
    "        par (dict) : Dict cotaining the rate of return, stored as 'r', default parameters\n",
    "    Output:\n",
    "        I_t (float) : Total income \n",
    "    '''\n",
    "   \n",
    "\n",
    "    # Calculate capital income\n",
    "    I_c = C*par['r']\n",
    "    \n",
    "    # Calculate total income\n",
    "    I_t = I+I_c\n",
    "\n",
    "    \n",
    "    return I_t"
   ]
  },
  {
   "cell_type": "code",
   "execution_count": 2,
   "metadata": {},
   "outputs": [
    {
     "name": "stdout",
     "output_type": "stream",
     "text": [
      "Total income1: 15.0\n",
      "Total income2: 20.0\n",
      "Total income3: 20.0\n",
      "Total income4: 205.0\n"
     ]
    }
   ],
   "source": [
    "print(f'Total income1: {income(I)}')\n",
    "\n",
    "# To calculate for a new I, all I need to do is is change the arguemnt:\n",
    "I2 = 15\n",
    "print(f'Total income2: {income(I2)}')\n",
    "\n",
    "# Global C is changed to 200, This works as C is referenced globally\n",
    "C= 200 \n",
    "print(f'Total income3: {income(I)}')\n",
    "\n",
    "# But if I'm for example working with two different Cs, I have to change the global variable each time \n",
    "C=100\n",
    "C2 = 200\n",
    "print(f'Total income4: {income(C2)}') # This is interpreted as the income argument"
   ]
  },
  {
   "cell_type": "code",
   "execution_count": 3,
   "metadata": {},
   "outputs": [
    {
     "name": "stdout",
     "output_type": "stream",
     "text": [
      "Total income, baseline: 15.0\n",
      "Total income1: 15.0\n",
      "Total income2: 20.0\n",
      "Total income3: 11.0\n"
     ]
    }
   ],
   "source": [
    "# Reset\n",
    "C, I = 100, 10\n",
    "\n",
    "# The par arg, automatically references the parameters dictionary. However as it is a keyword arguemnt, we can change this if we want to \n",
    "#Baseline was income of 15\n",
    "print(f'Total income, baseline: {income(I)}')\n",
    "\n",
    "\n",
    "# Creating a new dict, par, changes nothing, if it is not stated as input\n",
    "par = {'r':0.1}\n",
    "print(f'Total income1: {income(I)}')\n",
    "\n",
    "# But keyword arguemnts can be changed, when calling the function:\n",
    "print(f'Total income2: {income(I,par=par)}')\n",
    "\n",
    "# Since the default arguement refers to the global parameters, changing parameters, changes the output\n",
    "parameters['r']= 0.01\n",
    "print(f'Total income3: {income(I)}') # Now default is back to parameters\n"
   ]
  },
  {
   "cell_type": "markdown",
   "metadata": {},
   "source": [
    "This is example is simplified to show the basic point. Typically this mistake occured when you where making functions that refered to other functions."
   ]
  },
  {
   "cell_type": "markdown",
   "metadata": {},
   "source": [
    "## Style comments"
   ]
  },
  {
   "cell_type": "markdown",
   "metadata": {},
   "source": [
    "This is some stuff I would recomend that you think about, but of course it a bit more subjective what kind of style you like."
   ]
  },
  {
   "cell_type": "markdown",
   "metadata": {},
   "source": [
    "### Less is more "
   ]
  },
  {
   "cell_type": "markdown",
   "metadata": {},
   "source": [
    "If you can get the same results with the same precision in fewer lines, I would always recommend it. I makes your code easier to read and debug, and can save you a lot of time. <br>\n",
    "The easiest way to do this is whenever you're doing repetitive tasks, to make a function to pass multiple times. The main place where I noticed this, is problem 3) and 4). Since problem 4) is just 3) with a different parameter-value, I recommend that you harness the power of programming and make one function that solves both problems. I'ts recomended and good practice to reuse earlier defined functions."
   ]
  },
  {
   "cell_type": "markdown",
   "metadata": {},
   "source": [
    "### Unpacking results"
   ]
  },
  {
   "cell_type": "markdown",
   "metadata": {},
   "source": [
    "This is a small thing but in the interest of writting fewer lines of code, I would just mention it: when unpacking a result into multiple variables, you can save some typing, using unpacking:"
   ]
  },
  {
   "cell_type": "code",
   "execution_count": 4,
   "metadata": {},
   "outputs": [
    {
     "name": "stdout",
     "output_type": "stream",
     "text": [
      "1 2 3\n",
      "1 2 3\n",
      "1 2\n",
      "1 2\n"
     ]
    }
   ],
   "source": [
    "# Initiate some random data:\n",
    "result = [1,2,3]\n",
    "\n",
    "#These many lines of code:\n",
    "a = result[0]\n",
    "b = result[1]\n",
    "c = result[2]\n",
    "print(a,b,c)\n",
    "\n",
    "#Can be replaced with this:\n",
    "a,b,c = result\n",
    "print(a,b,c)\n",
    "\n",
    "# Or if you dont want to unpack the whole list:\n",
    "a, b = result[0],result[1]\n",
    "print(a,b)\n",
    "# Although even this can be shorter:\n",
    "a, b = result[0:2]\n",
    "print(a,b)"
   ]
  },
  {
   "cell_type": "code",
   "execution_count": 5,
   "metadata": {},
   "outputs": [
    {
     "name": "stdout",
     "output_type": "stream",
     "text": [
      "(2, 4)\n",
      "<class 'tuple'>\n",
      "2 4\n",
      "<class 'int'> <class 'int'>\n"
     ]
    }
   ],
   "source": [
    "# You can also unpack this way when using functions which returns multiple outputs \n",
    "# (in reality it returns a tuple, but you can unpack it as multiple variables):\n",
    "def double_output_func(x1,x2):\n",
    "    '''\n",
    "    This function takes two arguments and returns the double of those arguments as a tuple\n",
    "    \n",
    "    arguments:\n",
    "        x1 (int/float) : a number to double\n",
    "        x2 (int/float) : a number to double\n",
    "        \n",
    "    returns:\n",
    "        (tuple): Two elements, the inputed arguments times 2\n",
    "    '''\n",
    "    x1_new = x1*2\n",
    "    x2_new = x2*2\n",
    "    return x1_new, x2_new\n",
    "\n",
    "res = double_output_func(1,2)\n",
    "print(res)\n",
    "print(type(res))\n",
    "\n",
    "res1, res2 = double_output_func(1,2)\n",
    "print(res1,res2)\n",
    "print(type(res1),type(res2))"
   ]
  },
  {
   "cell_type": "markdown",
   "metadata": {},
   "source": [
    "### Function documentation"
   ]
  },
  {
   "cell_type": "markdown",
   "metadata": {},
   "source": [
    "The general conventionis using docstrings inside functions(as the double_output_func above). This might seem tedious to do some times but is really helpfull when you look at it later, and sticking with this style makes it faster to read, since you'll get used to commmon python documentation. Another added benefit is that you can reference your own documentation (which is again usefull when writing loads of code code, and you might forget the ordering of the arguments of a function you've defined a week ago):"
   ]
  },
  {
   "cell_type": "code",
   "execution_count": 6,
   "metadata": {},
   "outputs": [
    {
     "name": "stdout",
     "output_type": "stream",
     "text": [
      "Help on function double_output_func in module __main__:\n",
      "\n",
      "double_output_func(x1, x2)\n",
      "    This function takes two arguments and returns the double of those arguments as a tuple\n",
      "    \n",
      "    arguments:\n",
      "        x1 (int/float) : a number to double\n",
      "        x2 (int/float) : a number to double\n",
      "        \n",
      "    returns:\n",
      "        (tuple): Two elements, the inputed arguments times 2\n",
      "\n"
     ]
    }
   ],
   "source": [
    "help(double_output_func)"
   ]
  }
 ],
 "metadata": {
  "kernelspec": {
   "display_name": "Python 3",
   "language": "python",
   "name": "python3"
  },
  "language_info": {
   "codemirror_mode": {
    "name": "ipython",
    "version": 3
   },
   "file_extension": ".py",
   "mimetype": "text/x-python",
   "name": "python",
   "nbconvert_exporter": "python",
   "pygments_lexer": "ipython3",
   "version": "3.8.5"
  }
 },
 "nbformat": 4,
 "nbformat_minor": 4
}
